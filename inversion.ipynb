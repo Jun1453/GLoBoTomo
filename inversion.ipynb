{
 "cells": [
  {
   "cell_type": "code",
   "execution_count": 192,
   "metadata": {},
   "outputs": [
    {
     "ename": "KeyboardInterrupt",
     "evalue": "",
     "output_type": "error",
     "traceback": [
      "\u001b[0;31m---------------------------------------------------------------------------\u001b[0m",
      "\u001b[0;31mKeyboardInterrupt\u001b[0m                         Traceback (most recent call last)",
      "Cell \u001b[0;32mIn[192], line 6\u001b[0m\n\u001b[1;32m      3\u001b[0m ref_table_s \u001b[38;5;241m=\u001b[39m pd\u001b[38;5;241m.\u001b[39mread_csv(\u001b[38;5;124m'\u001b[39m\u001b[38;5;124m/Users/junsu/Documents/refPTomo.csv\u001b[39m\u001b[38;5;124m'\u001b[39m)\n\u001b[1;32m      4\u001b[0m file \u001b[38;5;241m=\u001b[39m np\u001b[38;5;241m.\u001b[39mload(\u001b[38;5;124m'\u001b[39m\u001b[38;5;124m/Users/junsu/Documents/globocat_1.2.2_sample_P.npz\u001b[39m\u001b[38;5;124m'\u001b[39m, allow_pickle\u001b[38;5;241m=\u001b[39m\u001b[38;5;28;01mTrue\u001b[39;00m)\n\u001b[0;32m----> 6\u001b[0m kmat_main \u001b[38;5;241m=\u001b[39m \u001b[43mfile\u001b[49m\u001b[43m[\u001b[49m\u001b[38;5;124;43m'\u001b[39;49m\u001b[38;5;124;43mkmat\u001b[39;49m\u001b[38;5;124;43m'\u001b[39;49m\u001b[43m]\u001b[49m[:, :\u001b[38;5;241m28358\u001b[39m]\n\u001b[1;32m      7\u001b[0m kmat_upper \u001b[38;5;241m=\u001b[39m file[\u001b[38;5;124m'\u001b[39m\u001b[38;5;124mkmat\u001b[39m\u001b[38;5;124m'\u001b[39m][:, \u001b[38;5;241m28358\u001b[39m:]\n\u001b[1;32m      8\u001b[0m kmat \u001b[38;5;241m=\u001b[39m np\u001b[38;5;241m.\u001b[39marray(file[\u001b[38;5;124m'\u001b[39m\u001b[38;5;124mkmat\u001b[39m\u001b[38;5;124m'\u001b[39m][:, :\u001b[38;5;241m2578\u001b[39m\u001b[38;5;241m*\u001b[39m\u001b[38;5;241m11\u001b[39m], dtype\u001b[38;5;241m=\u001b[39mnp\u001b[38;5;241m.\u001b[39mfloat32)\n",
      "File \u001b[0;32m/opt/homebrew/Caskroom/miniforge/base/envs/seqphase/lib/python3.10/site-packages/numpy/lib/_npyio_impl.py:254\u001b[0m, in \u001b[0;36mNpzFile.__getitem__\u001b[0;34m(self, key)\u001b[0m\n\u001b[1;32m    252\u001b[0m \u001b[38;5;28;01mif\u001b[39;00m magic \u001b[38;5;241m==\u001b[39m \u001b[38;5;28mformat\u001b[39m\u001b[38;5;241m.\u001b[39mMAGIC_PREFIX:\n\u001b[1;32m    253\u001b[0m     \u001b[38;5;28mbytes\u001b[39m \u001b[38;5;241m=\u001b[39m \u001b[38;5;28mself\u001b[39m\u001b[38;5;241m.\u001b[39mzip\u001b[38;5;241m.\u001b[39mopen(key)\n\u001b[0;32m--> 254\u001b[0m     \u001b[38;5;28;01mreturn\u001b[39;00m \u001b[38;5;28;43mformat\u001b[39;49m\u001b[38;5;241;43m.\u001b[39;49m\u001b[43mread_array\u001b[49m\u001b[43m(\u001b[49m\u001b[38;5;28;43mbytes\u001b[39;49m\u001b[43m,\u001b[49m\n\u001b[1;32m    255\u001b[0m \u001b[43m                             \u001b[49m\u001b[43mallow_pickle\u001b[49m\u001b[38;5;241;43m=\u001b[39;49m\u001b[38;5;28;43mself\u001b[39;49m\u001b[38;5;241;43m.\u001b[39;49m\u001b[43mallow_pickle\u001b[49m\u001b[43m,\u001b[49m\n\u001b[1;32m    256\u001b[0m \u001b[43m                             \u001b[49m\u001b[43mpickle_kwargs\u001b[49m\u001b[38;5;241;43m=\u001b[39;49m\u001b[38;5;28;43mself\u001b[39;49m\u001b[38;5;241;43m.\u001b[39;49m\u001b[43mpickle_kwargs\u001b[49m\u001b[43m,\u001b[49m\n\u001b[1;32m    257\u001b[0m \u001b[43m                             \u001b[49m\u001b[43mmax_header_size\u001b[49m\u001b[38;5;241;43m=\u001b[39;49m\u001b[38;5;28;43mself\u001b[39;49m\u001b[38;5;241;43m.\u001b[39;49m\u001b[43mmax_header_size\u001b[49m\u001b[43m)\u001b[49m\n\u001b[1;32m    258\u001b[0m \u001b[38;5;28;01melse\u001b[39;00m:\n\u001b[1;32m    259\u001b[0m     \u001b[38;5;28;01mreturn\u001b[39;00m \u001b[38;5;28mself\u001b[39m\u001b[38;5;241m.\u001b[39mzip\u001b[38;5;241m.\u001b[39mread(key)\n",
      "File \u001b[0;32m/opt/homebrew/Caskroom/miniforge/base/envs/seqphase/lib/python3.10/site-packages/numpy/lib/format.py:820\u001b[0m, in \u001b[0;36mread_array\u001b[0;34m(fp, allow_pickle, pickle_kwargs, max_header_size)\u001b[0m\n\u001b[1;32m    818\u001b[0m     pickle_kwargs \u001b[38;5;241m=\u001b[39m {}\n\u001b[1;32m    819\u001b[0m \u001b[38;5;28;01mtry\u001b[39;00m:\n\u001b[0;32m--> 820\u001b[0m     array \u001b[38;5;241m=\u001b[39m \u001b[43mpickle\u001b[49m\u001b[38;5;241;43m.\u001b[39;49m\u001b[43mload\u001b[49m\u001b[43m(\u001b[49m\u001b[43mfp\u001b[49m\u001b[43m,\u001b[49m\u001b[43m \u001b[49m\u001b[38;5;241;43m*\u001b[39;49m\u001b[38;5;241;43m*\u001b[39;49m\u001b[43mpickle_kwargs\u001b[49m\u001b[43m)\u001b[49m\n\u001b[1;32m    821\u001b[0m \u001b[38;5;28;01mexcept\u001b[39;00m \u001b[38;5;167;01mUnicodeError\u001b[39;00m \u001b[38;5;28;01mas\u001b[39;00m err:\n\u001b[1;32m    822\u001b[0m     \u001b[38;5;66;03m# Friendlier error message\u001b[39;00m\n\u001b[1;32m    823\u001b[0m     \u001b[38;5;28;01mraise\u001b[39;00m \u001b[38;5;167;01mUnicodeError\u001b[39;00m(\u001b[38;5;124m\"\u001b[39m\u001b[38;5;124mUnpickling a python object failed: \u001b[39m\u001b[38;5;132;01m%r\u001b[39;00m\u001b[38;5;130;01m\\n\u001b[39;00m\u001b[38;5;124m\"\u001b[39m\n\u001b[1;32m    824\u001b[0m                        \u001b[38;5;124m\"\u001b[39m\u001b[38;5;124mYou may need to pass the encoding= option \u001b[39m\u001b[38;5;124m\"\u001b[39m\n\u001b[1;32m    825\u001b[0m                        \u001b[38;5;124m\"\u001b[39m\u001b[38;5;124mto numpy.load\u001b[39m\u001b[38;5;124m\"\u001b[39m \u001b[38;5;241m%\u001b[39m (err,)) \u001b[38;5;28;01mfrom\u001b[39;00m\u001b[38;5;250m \u001b[39m\u001b[38;5;21;01merr\u001b[39;00m\n",
      "File \u001b[0;32m/opt/homebrew/Caskroom/miniforge/base/envs/seqphase/lib/python3.10/zipfile.py:905\u001b[0m, in \u001b[0;36mZipExtFile.read\u001b[0;34m(self, n)\u001b[0m\n\u001b[1;32m    902\u001b[0m         \u001b[38;5;28;01mraise\u001b[39;00m \u001b[38;5;167;01mValueError\u001b[39;00m(\u001b[38;5;124m\"\u001b[39m\u001b[38;5;124mI/O operation on closed file.\u001b[39m\u001b[38;5;124m\"\u001b[39m)\n\u001b[1;32m    903\u001b[0m     \u001b[38;5;28;01mreturn\u001b[39;00m \u001b[38;5;28;01mTrue\u001b[39;00m\n\u001b[0;32m--> 905\u001b[0m \u001b[38;5;28;01mdef\u001b[39;00m\u001b[38;5;250m \u001b[39m\u001b[38;5;21mread\u001b[39m(\u001b[38;5;28mself\u001b[39m, n\u001b[38;5;241m=\u001b[39m\u001b[38;5;241m-\u001b[39m\u001b[38;5;241m1\u001b[39m):\n\u001b[1;32m    906\u001b[0m \u001b[38;5;250m    \u001b[39m\u001b[38;5;124;03m\"\"\"Read and return up to n bytes.\u001b[39;00m\n\u001b[1;32m    907\u001b[0m \u001b[38;5;124;03m    If the argument is omitted, None, or negative, data is read and returned until EOF is reached.\u001b[39;00m\n\u001b[1;32m    908\u001b[0m \u001b[38;5;124;03m    \"\"\"\u001b[39;00m\n\u001b[1;32m    909\u001b[0m     \u001b[38;5;28;01mif\u001b[39;00m \u001b[38;5;28mself\u001b[39m\u001b[38;5;241m.\u001b[39mclosed:\n",
      "\u001b[0;31mKeyboardInterrupt\u001b[0m: "
     ]
    }
   ],
   "source": [
    "import numpy as np\n",
    "import pandas as pd\n",
    "ref_table_s = pd.read_csv('/Users/junsu/Documents/refPTomo.csv')\n",
    "file = np.load('/Users/junsu/Documents/globocat_1.2.2_sample_P.npz', allow_pickle=True)\n",
    "\n",
    "kmat_main = file['kmat'][:, :28358]\n",
    "kmat_upper = file['kmat'][:, 28358:]\n",
    "kmat = np.array(file['kmat'][:, :2578*11], dtype=np.float32)\n",
    "upper_corr = file['kmat'][:, 2578*11:] @ ref_table_s['anomaly'].values[2578*11:]/100\n",
    "res = np.array(file['res'][:2578*11] - upper_corr, dtype=np.float32)"
   ]
  },
  {
   "cell_type": "code",
   "execution_count": 2,
   "metadata": {},
   "outputs": [],
   "source": [
    "import numpy as np\n",
    "import pandas as pd\n",
    "from scipy.sparse import load_npz\n",
    "ref_table = pd.read_csv('/Users/junsu/Documents/refSTomo.csv')\n",
    "kmat = load_npz('globocat_1.2.0_S_srqc_sparse.npz')\n",
    "ttres = np.load('globocat_1.2.0_S_srqc_ttres.npz', allow_pickle=True)\n",
    "# kmat[:, 2578*11:]\n",
    "# kmat = np.array(file['kmat'][:, :2578*11])\n",
    "upper_corr = kmat[:, 2578*11:] @ ref_table['anomaly'].values[2578*11:]/100\n",
    "residuals = np.array(ttres['residual'] - upper_corr)"
   ]
  },
  {
   "cell_type": "code",
   "execution_count": 291,
   "metadata": {},
   "outputs": [
    {
     "data": {
      "text/plain": [
       "<Axes: >"
      ]
     },
     "execution_count": 291,
     "metadata": {},
     "output_type": "execute_result"
    },
    {
     "data": {
      "image/png": "[encoded data removed]",
      "text/plain": [
       "<Figure size 640x480 with 1 Axes>"
      ]
     },
     "metadata": {},
     "output_type": "display_data"
    }
   ],
   "source": [
    "pd.Series(upper_corr).hist(bins=50)"
   ]
  },
  {
   "cell_type": "code",
   "execution_count": 3,
   "metadata": {},
   "outputs": [],
   "source": [
    "import blockmodel\n",
    "from scipy.sparse import csr_array, vstack\n",
    "def get_csr_oneline(length, list1, list2):\n",
    "    row = np.zeros(length, dtype=np.float32)\n",
    "    for id in list1: row[id] = -1/len(list1)\n",
    "    for id in list2: row[id] = 1/len(list2)\n",
    "    return csr_array(row)\n",
    "\n",
    "def get_smoothing_kernel(md, direction):\n",
    "    nblk_per_layer = int(sum(md.number_of_blocks_in_band))\n",
    "    loop = range(len(md)-(nblk_per_layer if direction == 'r' else 0))\n",
    "    # print(loop)\n",
    "    if direction == 'r':\n",
    "        return vstack([get_csr_oneline(len(md),\n",
    "                                       [i],\n",
    "                                       [blk.id for blk in md.findNeighbor(md[i], direction='U')]) for i in loop])\n",
    "    elif direction == 'h':\n",
    "        return vstack([get_csr_oneline(len(md),\n",
    "                                       [i],\n",
    "                                       [blk.id for blk in md.findNeighbor(md[i], direction='E')]+\n",
    "                                       [blk.id for blk in md.findNeighbor(md[i], direction='S')]+\n",
    "                                       [blk.id for blk in md.findNeighbor(md[i], direction='W')]+\n",
    "                                       [blk.id for blk in md.findNeighbor(md[i], direction='N')]) for i in loop])\n",
    "    else:\n",
    "        return vstack([get_csr_oneline(len(md),\n",
    "                                       [blk.id for blk in md.findNeighbor(md[i], direction='S' if direction == 'lat' else 'W')],\n",
    "                                       [blk.id for blk in md.findNeighbor(md[i], direction='N' if direction == 'lat' else 'E')]) for i in loop])"
   ]
  },
  {
   "cell_type": "code",
   "execution_count": 11,
   "metadata": {},
   "outputs": [],
   "source": [
    "md = blockmodel.Model()\n",
    "md[:] = md[:2578*11]\n",
    "lambda_h = 4\n",
    "lambda_v = 4\n",
    "\n",
    "# k_smoothing = vstack([lambda_v*get_smoothing_kernel(md,'r'),\n",
    "#                       lambda_h*get_smoothing_kernel(md,'lon'),\n",
    "#                       lambda_h*get_smoothing_kernel(md,'lat')])\n",
    "k_smoothing = vstack([lambda_v*get_smoothing_kernel(md,'r'),\n",
    "                      lambda_h*get_smoothing_kernel(md,'h')])"
   ]
  },
  {
   "cell_type": "code",
   "execution_count": 12,
   "metadata": {},
   "outputs": [
    {
     "data": {
      "text/plain": [
       "54138"
      ]
     },
     "execution_count": 12,
     "metadata": {},
     "output_type": "execute_result"
    }
   ],
   "source": [
    "k_smoothing.shape[0]"
   ]
  },
  {
   "cell_type": "code",
   "execution_count": 5,
   "metadata": {},
   "outputs": [],
   "source": [
    "from scipy.sparse import lil_matrix\n",
    "\n",
    "def check_ill_values(row):\n",
    "    return (np.sum(np.isnan(row.todense()),axis=1)+np.sum(np.isinf(row.todense()),axis=1))>0\n",
    "\n",
    "def delete_row_lil(mat, i):\n",
    "    if not isinstance(mat, lil_matrix):\n",
    "        raise ValueError(\"works only for LIL format -- use .tolil() first\")\n",
    "    mat.rows = np.delete(mat.rows, i)\n",
    "    mat.data = np.delete(mat.data, i)\n",
    "    mat._shape = (mat._shape[0] - len(i), mat._shape[1])\n",
    "    return mat\n",
    "\n",
    "# smoothed_kmat = delete_row_lil(smoothed_kmat.tolil(), np.where(check_ill_values(smoothed_kmat))[0]).tocsr()"
   ]
  },
  {
   "cell_type": "code",
   "execution_count": null,
   "metadata": {},
   "outputs": [
    {
     "name": "stdout",
     "output_type": "stream",
     "text": [
      "21 problematic rays removed: [ 90954  93193 100756 102822 119072 127349 128455 129893 139556 140323\n",
      " 148330 163315 163660 196061 324403 374928 471926 706789 792989 830618\n",
      " 892261]\n"
     ]
    }
   ],
   "source": [
    "from scipy.sparse.linalg import lsqr\n",
    "\n",
    "# Solve kmat * m = res using LSQR\n",
    "# (10000 * 2578*11)\n",
    "# buggy in [500k, 550k]?\n",
    "init = 500000\n",
    "slc = slice(init,init+50000)\n",
    "slc = slice(None,None)\n",
    "\n",
    "sliced_kmat = kmat[slc, :2578*11]\n",
    "ill_value_loc = np.where(check_ill_values(sliced_kmat))[0]\n",
    "print(f\"{len(ill_value_loc)} problematic rays removed:\", ill_value_loc)\n",
    "smoothed_kmat = vstack([delete_row_lil(sliced_kmat.tolil(), ill_value_loc).tocsr(), k_smoothing])\n",
    "padded_residuals = np.pad(np.delete(residuals[slc], ill_value_loc), (0, k_smoothing.shape[0]))\n",
    "# smoothed_kmat = vstack([kmat[slc, :2578*11], k_smoothing])\n",
    "# padded_residuals = np.pad(residuals[slc], (0, k_smoothing.shape[0]))\n",
    "m = lsqr(smoothed_kmat, padded_residuals, damp=4)[0]"
   ]
  },
  {
   "cell_type": "code",
   "execution_count": 7,
   "metadata": {},
   "outputs": [
    {
     "data": {
      "text/plain": [
       "(np.float64(-0.814630549625009), np.float64(0.8331378583355722))"
      ]
     },
     "execution_count": 7,
     "metadata": {},
     "output_type": "execute_result"
    }
   ],
   "source": [
    "(min(m),max(m))"
   ]
  },
  {
   "cell_type": "code",
   "execution_count": 66,
   "metadata": {},
   "outputs": [],
   "source": [
    "np.save('globotomo_p',m)"
   ]
  },
  {
   "cell_type": "code",
   "execution_count": null,
   "metadata": {},
   "outputs": [],
   "source": [
    "from numpy import sin, cos, deg2rad\n",
    "import blockmodel\n",
    "\n",
    "def output_xyz(array, filepath, output_v=True, input_in_depth=False):\n",
    "    # Extract longitude, latitude, and depth from res[0]\n",
    "    lons = array[:, 0]\n",
    "    lats = array[:, 1]\n",
    "    z = array[:, 2]\n",
    "    if output_v: vals = array[:, 3]\n",
    "\n",
    "    # Assume Earth radius in km\n",
    "    R_earth = 6371.0\n",
    "\n",
    "    # Convert latitude and longitude to radians\n",
    "    lats_rad = deg2rad(lats)\n",
    "    lons_rad = deg2rad(lons)\n",
    "\n",
    "    # Compute radius at each depth (depth is in km)\n",
    "    if input_in_depth: r = R_earth - z\n",
    "    else: r = z\n",
    "\n",
    "    # Convert to cartesian coordinates\n",
    "    x = r * cos(lats_rad) * cos(lons_rad)\n",
    "    y = r * cos(lats_rad) * sin(lons_rad)\n",
    "    z = r * sin(lats_rad)\n",
    "    # print(z.max(),z.min())\n",
    "\n",
    "    # Normalize x, y, z to [-0.5, 0.5]\n",
    "    x_norm = x / 2 / R_earth\n",
    "    y_norm = y / 2 / R_earth\n",
    "    z_norm = z / 2 / R_earth\n",
    "\n",
    "    if output_v:\n",
    "        df = pd.DataFrame(np.stack([x_norm, y_norm, z_norm, vals], axis=1), columns=[\"x\", \"y\", \"z\", \"val\"])\n",
    "    else:\n",
    "        df = pd.DataFrame(np.stack([x_norm, y_norm, z_norm], axis=1), columns=[\"x\", \"y\", \"z\"])\n",
    "    return df\n",
    "    # df.to_csv(filepath, index=False)\n",
    "\n",
    "md = blockmodel.Model()\n",
    "data = np.array([ [blk.clon-360 if blk.clon>180 else blk.clon, 90-blk.clat, blk.crad] for blk in md])\n",
    "data = np.insert(data, 3, 100*np.pad(m, (0, 2578*7)), axis=1)\n",
    "# data\n",
    "df = output_xyz(data, 'xxx')\n",
    "df = df.rename(columns={'val': 'm1'})\n",
    "df['m0'] = ref_table['anomaly']"
   ]
  },
  {
   "cell_type": "code",
   "execution_count": 10,
   "metadata": {},
   "outputs": [],
   "source": [
    "df.to_csv('./globotomo_s_test_smooth.csv', index=False)"
   ]
  }
 ],
 "metadata": {
  "kernelspec": {
   "display_name": "seqphase",
   "language": "python",
   "name": "python3"
  },
  "language_info": {
   "codemirror_mode": {
    "name": "ipython",
    "version": 3
   },
   "file_extension": ".py",
   "mimetype": "text/x-python",
   "name": "python",
   "nbconvert_exporter": "python",
   "pygments_lexer": "ipython3",
   "version": "3.10.17"
  }
 },
 "nbformat": 4,
 "nbformat_minor": 2
}
